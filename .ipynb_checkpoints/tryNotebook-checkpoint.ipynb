{
 "cells": [
  {
   "cell_type": "markdown",
   "id": "42c9363a-bb96-42b0-ba8c-382a830f8ef4",
   "metadata": {},
   "source": [
    "# **1. Import Library**"
   ]
  },
  {
   "cell_type": "code",
   "execution_count": 18,
   "id": "f9eab9b5-7537-4f37-8511-c2dd48a923ec",
   "metadata": {
    "scrolled": true
   },
   "outputs": [],
   "source": [
    "import pandas as pd\n",
    "import re\n",
    "import string\n",
    "import joblib\n",
    "import nltk\n",
    "from nltk.corpus import stopwords\n",
    "from nltk.stem import PorterStemmer\n",
    "from imblearn.over_sampling import SMOTE\n",
    "from sklearn.feature_extraction.text import TfidfVectorizer\n",
    "from sklearn.model_selection import train_test_split, GridSearchCV, RandomizedSearchCV\n",
    "from sklearn.ensemble import RandomForestClassifier\n",
    "import numpy as np\n",
    "\n",
    "from xgboost import XGBClassifier\n",
    "from sklearn.impute import SimpleImputer\n",
    "from sklearn.metrics import classification_report, accuracy_score\n"
   ]
  },
  {
   "cell_type": "markdown",
   "id": "5c61df53-13b7-4d89-91f7-65ae803bd85b",
   "metadata": {},
   "source": [
    "# **2. Load Dataset**"
   ]
  },
  {
   "cell_type": "code",
   "execution_count": 19,
   "id": "ff172608-b47c-4a12-b03e-83c1defb0f5a",
   "metadata": {},
   "outputs": [
    {
     "name": "stderr",
     "output_type": "stream",
     "text": [
      "[nltk_data] Downloading package stopwords to\n",
      "[nltk_data]     C:\\Users\\03ann\\AppData\\Roaming\\nltk_data...\n",
      "[nltk_data]   Package stopwords is already up-to-date!\n"
     ]
    }
   ],
   "source": [
    "nltk.download('stopwords')\n",
    "stop_words = set(stopwords.words('indonesian'))\n",
    "stemmer = PorterStemmer()\n",
    "\n",
    "def clean_text(text):\n",
    "    text = text.lower()\n",
    "    text = re.sub(r'\\d+', '', text)\n",
    "    text = text.translate(str.maketrans(\"\", \"\", string.punctuation))\n",
    "    text = re.sub(r'\\s+', ' ', text).strip()\n",
    "    text = ' '.join([stemmer.stem(word) for word in text.split() if word not in stop_words])\n",
    "    return text"
   ]
  },
  {
   "cell_type": "code",
   "execution_count": 20,
   "id": "5424b54a-12dc-451b-9ffd-6aa6a9e5f4bf",
   "metadata": {},
   "outputs": [
    {
     "data": {
      "text/html": [
       "<div>\n",
       "<style scoped>\n",
       "    .dataframe tbody tr th:only-of-type {\n",
       "        vertical-align: middle;\n",
       "    }\n",
       "\n",
       "    .dataframe tbody tr th {\n",
       "        vertical-align: top;\n",
       "    }\n",
       "\n",
       "    .dataframe thead th {\n",
       "        text-align: right;\n",
       "    }\n",
       "</style>\n",
       "<table border=\"1\" class=\"dataframe\">\n",
       "  <thead>\n",
       "    <tr style=\"text-align: right;\">\n",
       "      <th></th>\n",
       "      <th>LinkGmaps</th>\n",
       "      <th>NameLocation</th>\n",
       "      <th>Rating</th>\n",
       "      <th>Foto</th>\n",
       "      <th>Provinsi</th>\n",
       "      <th>Alamat</th>\n",
       "      <th>Penjelasan</th>\n",
       "      <th>Kategori</th>\n",
       "      <th>Clean_Penjelasan</th>\n",
       "    </tr>\n",
       "  </thead>\n",
       "  <tbody>\n",
       "    <tr>\n",
       "      <th>0</th>\n",
       "      <td>https://www.google.com/maps/place/Taman+Nasion...</td>\n",
       "      <td>Taman Nasional Gunung Leuser</td>\n",
       "      <td>4.5</td>\n",
       "      <td>https://lh5.googleusercontent.com/p/AF1QipNor-...</td>\n",
       "      <td>Aceh</td>\n",
       "      <td>Taman Nasional Gunung Leuser, Aceh dan Sumater...</td>\n",
       "      <td>kawasan pelestarian alam yang terletak di Aceh...</td>\n",
       "      <td>Gunung</td>\n",
       "      <td>kawasan pelestarian alam terletak aceh sumater...</td>\n",
       "    </tr>\n",
       "    <tr>\n",
       "      <th>1</th>\n",
       "      <td>https://www.google.com/maps/place/Pucok+Krueng...</td>\n",
       "      <td>Pucok Krueng</td>\n",
       "      <td>4.5</td>\n",
       "      <td>https://lh5.googleusercontent.com/p/AF1QipPVqA...</td>\n",
       "      <td>Aceh</td>\n",
       "      <td>Pucok Krueng, Aceh Besar.</td>\n",
       "      <td>Pucok Krueng adalah destinasi wisata alam yang...</td>\n",
       "      <td>Gunung</td>\n",
       "      <td>pucok krueng destinasi wisata alam menawarkan ...</td>\n",
       "    </tr>\n",
       "    <tr>\n",
       "      <th>2</th>\n",
       "      <td>https://www.google.com/maps/place/Pantai+Ujong...</td>\n",
       "      <td>Pantai Ujong Kareung</td>\n",
       "      <td>4.3</td>\n",
       "      <td>https://lh5.googleusercontent.com/p/AF1QipNY4o...</td>\n",
       "      <td>Aceh</td>\n",
       "      <td>Gampong Ujong Kareung, Kecamatan Sukajaya, Kot...</td>\n",
       "      <td>Pantai Ujong Kareung terkenal dengan pasir put...</td>\n",
       "      <td>Pantai</td>\n",
       "      <td>pantai ujong kareung terken pasir putihnya air...</td>\n",
       "    </tr>\n",
       "    <tr>\n",
       "      <th>3</th>\n",
       "      <td>https://www.google.com/maps/place/Pantai+Lanco...</td>\n",
       "      <td>Pantai Lancok</td>\n",
       "      <td>4.0</td>\n",
       "      <td>https://lh5.googleusercontent.com/p/AF1QipNf-N...</td>\n",
       "      <td>Aceh</td>\n",
       "      <td>Pantai Lancok, Aceh Utara.</td>\n",
       "      <td>Pantai Lancok menawarkan suasana tenang dengan...</td>\n",
       "      <td>Pantai</td>\n",
       "      <td>pantai lancok menawarkan suasana tenang pemand...</td>\n",
       "    </tr>\n",
       "    <tr>\n",
       "      <th>4</th>\n",
       "      <td>https://www.google.com/maps/place/Air+Terjun+P...</td>\n",
       "      <td>Air Terjun Peukan Biluy</td>\n",
       "      <td>4.0</td>\n",
       "      <td>https://lh5.googleusercontent.com/p/AF1QipOVja...</td>\n",
       "      <td>Aceh</td>\n",
       "      <td>Peukan Biluy, Aceh Besar.</td>\n",
       "      <td>Air Terjun Peukan Biluy adalah tempat yang ide...</td>\n",
       "      <td>Taman &amp; Alam</td>\n",
       "      <td>air terjun peukan biluy ideal menikmati keinda...</td>\n",
       "    </tr>\n",
       "  </tbody>\n",
       "</table>\n",
       "</div>"
      ],
      "text/plain": [
       "                                           LinkGmaps  \\\n",
       "0  https://www.google.com/maps/place/Taman+Nasion...   \n",
       "1  https://www.google.com/maps/place/Pucok+Krueng...   \n",
       "2  https://www.google.com/maps/place/Pantai+Ujong...   \n",
       "3  https://www.google.com/maps/place/Pantai+Lanco...   \n",
       "4  https://www.google.com/maps/place/Air+Terjun+P...   \n",
       "\n",
       "                   NameLocation  Rating  \\\n",
       "0  Taman Nasional Gunung Leuser     4.5   \n",
       "1                  Pucok Krueng     4.5   \n",
       "2          Pantai Ujong Kareung     4.3   \n",
       "3                 Pantai Lancok     4.0   \n",
       "4       Air Terjun Peukan Biluy     4.0   \n",
       "\n",
       "                                                Foto Provinsi  \\\n",
       "0  https://lh5.googleusercontent.com/p/AF1QipNor-...     Aceh   \n",
       "1  https://lh5.googleusercontent.com/p/AF1QipPVqA...     Aceh   \n",
       "2  https://lh5.googleusercontent.com/p/AF1QipNY4o...     Aceh   \n",
       "3  https://lh5.googleusercontent.com/p/AF1QipNf-N...     Aceh   \n",
       "4  https://lh5.googleusercontent.com/p/AF1QipOVja...     Aceh   \n",
       "\n",
       "                                              Alamat  \\\n",
       "0  Taman Nasional Gunung Leuser, Aceh dan Sumater...   \n",
       "1                          Pucok Krueng, Aceh Besar.   \n",
       "2  Gampong Ujong Kareung, Kecamatan Sukajaya, Kot...   \n",
       "3                         Pantai Lancok, Aceh Utara.   \n",
       "4                          Peukan Biluy, Aceh Besar.   \n",
       "\n",
       "                                          Penjelasan      Kategori  \\\n",
       "0  kawasan pelestarian alam yang terletak di Aceh...        Gunung   \n",
       "1  Pucok Krueng adalah destinasi wisata alam yang...        Gunung   \n",
       "2  Pantai Ujong Kareung terkenal dengan pasir put...        Pantai   \n",
       "3  Pantai Lancok menawarkan suasana tenang dengan...        Pantai   \n",
       "4  Air Terjun Peukan Biluy adalah tempat yang ide...  Taman & Alam   \n",
       "\n",
       "                                    Clean_Penjelasan  \n",
       "0  kawasan pelestarian alam terletak aceh sumater...  \n",
       "1  pucok krueng destinasi wisata alam menawarkan ...  \n",
       "2  pantai ujong kareung terken pasir putihnya air...  \n",
       "3  pantai lancok menawarkan suasana tenang pemand...  \n",
       "4  air terjun peukan biluy ideal menikmati keinda...  "
      ]
     },
     "execution_count": 20,
     "metadata": {},
     "output_type": "execute_result"
    }
   ],
   "source": [
    "def preprocess_data(wisata):\n",
    "    wisata['Rating'] = wisata['Rating'].str.replace(',', '.').astype(float)\n",
    "    wisata['Clean_Penjelasan'] = wisata['Penjelasan'].astype(str).apply(clean_text)\n",
    "    \n",
    "    # Gabungkan kategori duplikat\n",
    "    wisata['Kategori'] = wisata['Kategori'].replace({\"Pantai \": \"Pantai\"})\n",
    "    \n",
    "    # Gabungkan kategori minoritas agar tidak error di SMOTE\n",
    "    category_counts = wisata['Kategori'].value_counts()\n",
    "    rare_categories = category_counts[category_counts < 6].index.tolist()\n",
    "    wisata['Kategori'] = wisata['Kategori'].apply(lambda x: 'Lainnya' if x in rare_categories else x)\n",
    "    return wisata\n",
    "\n",
    "wisata = pd.read_csv('Dataset/Tempat_Wisata.csv')\n",
    "wisata = preprocess_data(wisata)\n",
    "wisata.head()"
   ]
  },
  {
   "cell_type": "markdown",
   "id": "b91ade4b-17bf-4cc1-accf-890deffe9b8f",
   "metadata": {},
   "source": [
    "# **3. Memahami Struktur Data**"
   ]
  },
  {
   "cell_type": "code",
   "execution_count": 21,
   "id": "a51b2ba2-9248-4973-85c5-f44dad9e627a",
   "metadata": {},
   "outputs": [
    {
     "name": "stdout",
     "output_type": "stream",
     "text": [
      "<class 'pandas.core.frame.DataFrame'>\n",
      "RangeIndex: 2212 entries, 0 to 2211\n",
      "Data columns (total 9 columns):\n",
      " #   Column            Non-Null Count  Dtype  \n",
      "---  ------            --------------  -----  \n",
      " 0   LinkGmaps         2212 non-null   object \n",
      " 1   NameLocation      2212 non-null   object \n",
      " 2   Rating            2211 non-null   float64\n",
      " 3   Foto              2212 non-null   object \n",
      " 4   Provinsi          2212 non-null   object \n",
      " 5   Alamat            2212 non-null   object \n",
      " 6   Penjelasan        2212 non-null   object \n",
      " 7   Kategori          2212 non-null   object \n",
      " 8   Clean_Penjelasan  2212 non-null   object \n",
      "dtypes: float64(1), object(8)\n",
      "memory usage: 155.7+ KB\n"
     ]
    }
   ],
   "source": [
    "wisata.info()"
   ]
  },
  {
   "cell_type": "markdown",
   "id": "495e56da-f255-430d-a898-f4cd46070548",
   "metadata": {},
   "source": [
    "# **4. Mengecheck data kosong**"
   ]
  },
  {
   "cell_type": "code",
   "execution_count": 22,
   "id": "8d37b662-9df5-4ba7-8322-d982f65abc3e",
   "metadata": {},
   "outputs": [
    {
     "data": {
      "text/plain": [
       "LinkGmaps           0\n",
       "NameLocation        0\n",
       "Rating              1\n",
       "Foto                0\n",
       "Provinsi            0\n",
       "Alamat              0\n",
       "Penjelasan          0\n",
       "Kategori            0\n",
       "Clean_Penjelasan    0\n",
       "dtype: int64"
      ]
     },
     "execution_count": 22,
     "metadata": {},
     "output_type": "execute_result"
    }
   ],
   "source": [
    "#mengecheck data hilang\n",
    "wisata.isnull().sum()"
   ]
  },
  {
   "cell_type": "code",
   "execution_count": 23,
   "id": "9b882cae-8872-4cf7-9629-cef456231e71",
   "metadata": {},
   "outputs": [
    {
     "data": {
      "text/html": [
       "<div>\n",
       "<style scoped>\n",
       "    .dataframe tbody tr th:only-of-type {\n",
       "        vertical-align: middle;\n",
       "    }\n",
       "\n",
       "    .dataframe tbody tr th {\n",
       "        vertical-align: top;\n",
       "    }\n",
       "\n",
       "    .dataframe thead th {\n",
       "        text-align: right;\n",
       "    }\n",
       "</style>\n",
       "<table border=\"1\" class=\"dataframe\">\n",
       "  <thead>\n",
       "    <tr style=\"text-align: right;\">\n",
       "      <th></th>\n",
       "      <th>Rating</th>\n",
       "    </tr>\n",
       "  </thead>\n",
       "  <tbody>\n",
       "    <tr>\n",
       "      <th>count</th>\n",
       "      <td>2212.000000</td>\n",
       "    </tr>\n",
       "    <tr>\n",
       "      <th>mean</th>\n",
       "      <td>4.428991</td>\n",
       "    </tr>\n",
       "    <tr>\n",
       "      <th>std</th>\n",
       "      <td>0.248042</td>\n",
       "    </tr>\n",
       "    <tr>\n",
       "      <th>min</th>\n",
       "      <td>2.000000</td>\n",
       "    </tr>\n",
       "    <tr>\n",
       "      <th>25%</th>\n",
       "      <td>4.300000</td>\n",
       "    </tr>\n",
       "    <tr>\n",
       "      <th>50%</th>\n",
       "      <td>4.500000</td>\n",
       "    </tr>\n",
       "    <tr>\n",
       "      <th>75%</th>\n",
       "      <td>4.600000</td>\n",
       "    </tr>\n",
       "    <tr>\n",
       "      <th>max</th>\n",
       "      <td>5.000000</td>\n",
       "    </tr>\n",
       "  </tbody>\n",
       "</table>\n",
       "</div>"
      ],
      "text/plain": [
       "            Rating\n",
       "count  2212.000000\n",
       "mean      4.428991\n",
       "std       0.248042\n",
       "min       2.000000\n",
       "25%       4.300000\n",
       "50%       4.500000\n",
       "75%       4.600000\n",
       "max       5.000000"
      ]
     },
     "execution_count": 23,
     "metadata": {},
     "output_type": "execute_result"
    }
   ],
   "source": [
    "# Mengisi nilai kosong\n",
    "wisata[\"Rating\"] = wisata[\"Rating\"].fillna(wisata[\"Rating\"].astype(float).mean())\n",
    "\n",
    "wisata.describe()\n"
   ]
  },
  {
   "cell_type": "code",
   "execution_count": 25,
   "id": "1926ffa5-e77a-4bd3-92dd-b92af63711a5",
   "metadata": {},
   "outputs": [
    {
     "data": {
      "text/html": [
       "<div>\n",
       "<style scoped>\n",
       "    .dataframe tbody tr th:only-of-type {\n",
       "        vertical-align: middle;\n",
       "    }\n",
       "\n",
       "    .dataframe tbody tr th {\n",
       "        vertical-align: top;\n",
       "    }\n",
       "\n",
       "    .dataframe thead th {\n",
       "        text-align: right;\n",
       "    }\n",
       "</style>\n",
       "<table border=\"1\" class=\"dataframe\">\n",
       "  <thead>\n",
       "    <tr style=\"text-align: right;\">\n",
       "      <th></th>\n",
       "      <th>NameLocation</th>\n",
       "      <th>Provinsi</th>\n",
       "      <th>Kategori</th>\n",
       "      <th>Rating</th>\n",
       "      <th>LinkGmaps</th>\n",
       "    </tr>\n",
       "  </thead>\n",
       "  <tbody>\n",
       "    <tr>\n",
       "      <th>1982</th>\n",
       "      <td>Bukit Pendape</td>\n",
       "      <td>Sumatera Selatan</td>\n",
       "      <td>Gunung/Bukit</td>\n",
       "      <td>4.5</td>\n",
       "      <td>https://www.google.com/maps/place/Bukit+Pendap...</td>\n",
       "    </tr>\n",
       "    <tr>\n",
       "      <th>1959</th>\n",
       "      <td>Taman Wisata Bukit Cogong</td>\n",
       "      <td>Sumatera Selatan</td>\n",
       "      <td>Gunung/Bukit</td>\n",
       "      <td>4.3</td>\n",
       "      <td>https://www.google.com/maps/place/Taman+Wisata...</td>\n",
       "    </tr>\n",
       "    <tr>\n",
       "      <th>1990</th>\n",
       "      <td>Wisata Alam Bukit Sulap Taman Nasional Kerinci...</td>\n",
       "      <td>Sumatera Selatan</td>\n",
       "      <td>Gunung/Bukit</td>\n",
       "      <td>4.2</td>\n",
       "      <td>https://www.google.com/maps/place/Wisata+Alam+...</td>\n",
       "    </tr>\n",
       "  </tbody>\n",
       "</table>\n",
       "</div>"
      ],
      "text/plain": [
       "                                           NameLocation          Provinsi  \\\n",
       "1982                                      Bukit Pendape  Sumatera Selatan   \n",
       "1959                          Taman Wisata Bukit Cogong  Sumatera Selatan   \n",
       "1990  Wisata Alam Bukit Sulap Taman Nasional Kerinci...  Sumatera Selatan   \n",
       "\n",
       "          Kategori  Rating                                          LinkGmaps  \n",
       "1982  Gunung/Bukit     4.5  https://www.google.com/maps/place/Bukit+Pendap...  \n",
       "1959  Gunung/Bukit     4.3  https://www.google.com/maps/place/Taman+Wisata...  \n",
       "1990  Gunung/Bukit     4.2  https://www.google.com/maps/place/Wisata+Alam+...  "
      ]
     },
     "execution_count": 25,
     "metadata": {},
     "output_type": "execute_result"
    }
   ],
   "source": [
    "# Model Berbasis Filter: Rekomendasi berdasarkan Provinsi & Kategori\n",
    "def rekomendasi_filter(provinsi=None, kategori=None, top_n=5):\n",
    "    df_filtered = wisata.copy()\n",
    "    \n",
    "    if provinsi:\n",
    "        df_filtered = df_filtered[df_filtered[\"Provinsi\"].str.lower() == provinsi.lower()]\n",
    "    \n",
    "    if kategori:\n",
    "        df_filtered = df_filtered[df_filtered[\"Kategori\"].str.lower() == kategori.lower()]\n",
    "    \n",
    "    if df_filtered.empty:\n",
    "        return \"Tidak ditemukan tempat wisata dengan filter tersebut.\"\n",
    "    \n",
    "    df_sorted = df_filtered.sort_values(by=\"Rating\", ascending=False).head(top_n)\n",
    "    \n",
    "    return df_sorted[[\"NameLocation\", \"Provinsi\", \"Kategori\", \"Rating\", \"LinkGmaps\"]]\n",
    "#test latihan\n",
    "rekomendasi_filter(provinsi=\"Sumatera Selatan\", kategori=\"Gunung/Bukit\", top_n=5)\n"
   ]
  },
  {
   "cell_type": "code",
   "execution_count": 27,
   "id": "95fa4e49-4e92-474f-b44c-a321883cffa6",
   "metadata": {},
   "outputs": [
    {
     "data": {
      "text/html": [
       "<div>\n",
       "<style scoped>\n",
       "    .dataframe tbody tr th:only-of-type {\n",
       "        vertical-align: middle;\n",
       "    }\n",
       "\n",
       "    .dataframe tbody tr th {\n",
       "        vertical-align: top;\n",
       "    }\n",
       "\n",
       "    .dataframe thead th {\n",
       "        text-align: right;\n",
       "    }\n",
       "</style>\n",
       "<table border=\"1\" class=\"dataframe\">\n",
       "  <thead>\n",
       "    <tr style=\"text-align: right;\">\n",
       "      <th></th>\n",
       "      <th>NameLocation</th>\n",
       "      <th>Provinsi</th>\n",
       "      <th>Kategori</th>\n",
       "      <th>Rating</th>\n",
       "      <th>LinkGmaps</th>\n",
       "    </tr>\n",
       "  </thead>\n",
       "  <tbody>\n",
       "    <tr>\n",
       "      <th>1540</th>\n",
       "      <td>Desa Tanjung Belit</td>\n",
       "      <td>Riau</td>\n",
       "      <td>Desa Wisata</td>\n",
       "      <td>4.5</td>\n",
       "      <td>https://www.google.com/maps/place/Desa+Tanjung...</td>\n",
       "    </tr>\n",
       "    <tr>\n",
       "      <th>1196</th>\n",
       "      <td>Desa Wisata Sumberagung</td>\n",
       "      <td>Lampung</td>\n",
       "      <td>Desa Wisata</td>\n",
       "      <td>4.9</td>\n",
       "      <td>https://www.google.com/maps/place/Desa+Wisata+...</td>\n",
       "    </tr>\n",
       "    <tr>\n",
       "      <th>596</th>\n",
       "      <td>Desa Wisata Pekunden</td>\n",
       "      <td>Jawa Tengah</td>\n",
       "      <td>Desa Wisata</td>\n",
       "      <td>4.8</td>\n",
       "      <td>https://www.google.com/maps/place/Desa+Wisata+...</td>\n",
       "    </tr>\n",
       "    <tr>\n",
       "      <th>1962</th>\n",
       "      <td>Desa Wisata Kampung Warna Burai</td>\n",
       "      <td>Sumatera Selatan</td>\n",
       "      <td>Desa Wisata</td>\n",
       "      <td>4.5</td>\n",
       "      <td>https://www.google.com/maps/place/Desa+Wisata+...</td>\n",
       "    </tr>\n",
       "    <tr>\n",
       "      <th>2204</th>\n",
       "      <td>Desa Wisata Rumah Domes</td>\n",
       "      <td>Yogyakarta</td>\n",
       "      <td>Desa Wisata</td>\n",
       "      <td>4.1</td>\n",
       "      <td>https://www.google.com/maps/place/Desa+Wisata+...</td>\n",
       "    </tr>\n",
       "  </tbody>\n",
       "</table>\n",
       "</div>"
      ],
      "text/plain": [
       "                         NameLocation          Provinsi     Kategori  Rating  \\\n",
       "1540               Desa Tanjung Belit              Riau  Desa Wisata     4.5   \n",
       "1196          Desa Wisata Sumberagung           Lampung  Desa Wisata     4.9   \n",
       "596              Desa Wisata Pekunden       Jawa Tengah  Desa Wisata     4.8   \n",
       "1962  Desa Wisata Kampung Warna Burai  Sumatera Selatan  Desa Wisata     4.5   \n",
       "2204          Desa Wisata Rumah Domes        Yogyakarta  Desa Wisata     4.1   \n",
       "\n",
       "                                              LinkGmaps  \n",
       "1540  https://www.google.com/maps/place/Desa+Tanjung...  \n",
       "1196  https://www.google.com/maps/place/Desa+Wisata+...  \n",
       "596   https://www.google.com/maps/place/Desa+Wisata+...  \n",
       "1962  https://www.google.com/maps/place/Desa+Wisata+...  \n",
       "2204  https://www.google.com/maps/place/Desa+Wisata+...  "
      ]
     },
     "execution_count": 27,
     "metadata": {},
     "output_type": "execute_result"
    }
   ],
   "source": [
    "from sklearn.feature_extraction.text import TfidfVectorizer\n",
    "from sklearn.metrics.pairwise import cosine_similarity\n",
    "\n",
    "tfidf = TfidfVectorizer(stop_words=\"english\")\n",
    "tfidf_matrix = tfidf.fit_transform(wisata[\"Penjelasan\"])\n",
    "\n",
    "def rekomendasi_konten(deskripsi_input, top_n=5):\n",
    "    input_tfidf = tfidf.transform([deskripsi_input])\n",
    "    \n",
    "    # Menghitung cosine similarity\n",
    "    cosine_sim = cosine_similarity(input_tfidf, tfidf_matrix)\n",
    "    \n",
    "    # Mengambil indeks tempat wisata dengan similarity tertinggi\n",
    "    top_indices = cosine_sim.argsort()[0][-top_n:][::-1]\n",
    "\n",
    "    return wisata.iloc[top_indices][[\"NameLocation\", \"Provinsi\", \"Kategori\", \"Rating\", \"LinkGmaps\"]]\n",
    "\n",
    "# Contoh rekomendasi berdasarkan deskripsi\n",
    "rekomendasi_konten(\"Desa wisata yanag menarik\", top_n=5)\n"
   ]
  },
  {
   "cell_type": "markdown",
   "id": "cfc54be1-dd8a-4746-8f81-10458c0954ff",
   "metadata": {},
   "source": [
    "# **6. TF-IDF dan Balancing Data**"
   ]
  },
  {
   "cell_type": "code",
   "execution_count": 31,
   "id": "8dc4d86e-4534-4fb7-a324-086d0f2d9a60",
   "metadata": {},
   "outputs": [],
   "source": [
    "tfidf = TfidfVectorizer(stop_words='english', max_features=5000)\n",
    "X_text = tfidf.fit_transform(wisata['Clean_Penjelasan'])\n",
    "X_other = wisata.drop(columns=['NameLocation', 'Penjelasan', 'Clean_Penjelasan', 'LinkGmaps', 'Foto', 'Alamat'])\n",
    "X = np.hstack((X_text.toarray(), X_other.values))"
   ]
  },
  {
   "cell_type": "code",
   "execution_count": 32,
   "id": "9124e60d-c1b2-4610-b9c7-63ee4665f274",
   "metadata": {},
   "outputs": [
    {
     "ename": "KeyError",
     "evalue": "'Kategori_Pantai'",
     "output_type": "error",
     "traceback": [
      "\u001b[1;31m---------------------------------------------------------------------------\u001b[0m",
      "\u001b[1;31mKeyError\u001b[0m                                  Traceback (most recent call last)",
      "File \u001b[1;32m~\\AppData\\Local\\Programs\\Python\\Python311\\Lib\\site-packages\\pandas\\core\\indexes\\base.py:3805\u001b[0m, in \u001b[0;36mIndex.get_loc\u001b[1;34m(self, key)\u001b[0m\n\u001b[0;32m   3804\u001b[0m \u001b[38;5;28;01mtry\u001b[39;00m:\n\u001b[1;32m-> 3805\u001b[0m     \u001b[38;5;28;01mreturn\u001b[39;00m \u001b[38;5;28;43mself\u001b[39;49m\u001b[38;5;241;43m.\u001b[39;49m\u001b[43m_engine\u001b[49m\u001b[38;5;241;43m.\u001b[39;49m\u001b[43mget_loc\u001b[49m\u001b[43m(\u001b[49m\u001b[43mcasted_key\u001b[49m\u001b[43m)\u001b[49m\n\u001b[0;32m   3806\u001b[0m \u001b[38;5;28;01mexcept\u001b[39;00m \u001b[38;5;167;01mKeyError\u001b[39;00m \u001b[38;5;28;01mas\u001b[39;00m err:\n",
      "File \u001b[1;32mindex.pyx:167\u001b[0m, in \u001b[0;36mpandas._libs.index.IndexEngine.get_loc\u001b[1;34m()\u001b[0m\n",
      "File \u001b[1;32mindex.pyx:196\u001b[0m, in \u001b[0;36mpandas._libs.index.IndexEngine.get_loc\u001b[1;34m()\u001b[0m\n",
      "File \u001b[1;32mpandas\\\\_libs\\\\hashtable_class_helper.pxi:7081\u001b[0m, in \u001b[0;36mpandas._libs.hashtable.PyObjectHashTable.get_item\u001b[1;34m()\u001b[0m\n",
      "File \u001b[1;32mpandas\\\\_libs\\\\hashtable_class_helper.pxi:7089\u001b[0m, in \u001b[0;36mpandas._libs.hashtable.PyObjectHashTable.get_item\u001b[1;34m()\u001b[0m\n",
      "\u001b[1;31mKeyError\u001b[0m: 'Kategori_Pantai'",
      "\nThe above exception was the direct cause of the following exception:\n",
      "\u001b[1;31mKeyError\u001b[0m                                  Traceback (most recent call last)",
      "Cell \u001b[1;32mIn[32], line 1\u001b[0m\n\u001b[1;32m----> 1\u001b[0m y \u001b[38;5;241m=\u001b[39m \u001b[43mwisata\u001b[49m\u001b[43m[\u001b[49m\u001b[38;5;124;43m'\u001b[39;49m\u001b[38;5;124;43mKategori_Pantai\u001b[39;49m\u001b[38;5;124;43m'\u001b[39;49m\u001b[43m]\u001b[49m  \u001b[38;5;66;03m# Contoh target (bisa disesuaikan dengan kategori lainnya)\u001b[39;00m\n",
      "File \u001b[1;32m~\\AppData\\Local\\Programs\\Python\\Python311\\Lib\\site-packages\\pandas\\core\\frame.py:4102\u001b[0m, in \u001b[0;36mDataFrame.__getitem__\u001b[1;34m(self, key)\u001b[0m\n\u001b[0;32m   4100\u001b[0m \u001b[38;5;28;01mif\u001b[39;00m \u001b[38;5;28mself\u001b[39m\u001b[38;5;241m.\u001b[39mcolumns\u001b[38;5;241m.\u001b[39mnlevels \u001b[38;5;241m>\u001b[39m \u001b[38;5;241m1\u001b[39m:\n\u001b[0;32m   4101\u001b[0m     \u001b[38;5;28;01mreturn\u001b[39;00m \u001b[38;5;28mself\u001b[39m\u001b[38;5;241m.\u001b[39m_getitem_multilevel(key)\n\u001b[1;32m-> 4102\u001b[0m indexer \u001b[38;5;241m=\u001b[39m \u001b[38;5;28;43mself\u001b[39;49m\u001b[38;5;241;43m.\u001b[39;49m\u001b[43mcolumns\u001b[49m\u001b[38;5;241;43m.\u001b[39;49m\u001b[43mget_loc\u001b[49m\u001b[43m(\u001b[49m\u001b[43mkey\u001b[49m\u001b[43m)\u001b[49m\n\u001b[0;32m   4103\u001b[0m \u001b[38;5;28;01mif\u001b[39;00m is_integer(indexer):\n\u001b[0;32m   4104\u001b[0m     indexer \u001b[38;5;241m=\u001b[39m [indexer]\n",
      "File \u001b[1;32m~\\AppData\\Local\\Programs\\Python\\Python311\\Lib\\site-packages\\pandas\\core\\indexes\\base.py:3812\u001b[0m, in \u001b[0;36mIndex.get_loc\u001b[1;34m(self, key)\u001b[0m\n\u001b[0;32m   3807\u001b[0m     \u001b[38;5;28;01mif\u001b[39;00m \u001b[38;5;28misinstance\u001b[39m(casted_key, \u001b[38;5;28mslice\u001b[39m) \u001b[38;5;129;01mor\u001b[39;00m (\n\u001b[0;32m   3808\u001b[0m         \u001b[38;5;28misinstance\u001b[39m(casted_key, abc\u001b[38;5;241m.\u001b[39mIterable)\n\u001b[0;32m   3809\u001b[0m         \u001b[38;5;129;01mand\u001b[39;00m \u001b[38;5;28many\u001b[39m(\u001b[38;5;28misinstance\u001b[39m(x, \u001b[38;5;28mslice\u001b[39m) \u001b[38;5;28;01mfor\u001b[39;00m x \u001b[38;5;129;01min\u001b[39;00m casted_key)\n\u001b[0;32m   3810\u001b[0m     ):\n\u001b[0;32m   3811\u001b[0m         \u001b[38;5;28;01mraise\u001b[39;00m InvalidIndexError(key)\n\u001b[1;32m-> 3812\u001b[0m     \u001b[38;5;28;01mraise\u001b[39;00m \u001b[38;5;167;01mKeyError\u001b[39;00m(key) \u001b[38;5;28;01mfrom\u001b[39;00m \u001b[38;5;21;01merr\u001b[39;00m\n\u001b[0;32m   3813\u001b[0m \u001b[38;5;28;01mexcept\u001b[39;00m \u001b[38;5;167;01mTypeError\u001b[39;00m:\n\u001b[0;32m   3814\u001b[0m     \u001b[38;5;66;03m# If we have a listlike key, _check_indexing_error will raise\u001b[39;00m\n\u001b[0;32m   3815\u001b[0m     \u001b[38;5;66;03m#  InvalidIndexError. Otherwise we fall through and re-raise\u001b[39;00m\n\u001b[0;32m   3816\u001b[0m     \u001b[38;5;66;03m#  the TypeError.\u001b[39;00m\n\u001b[0;32m   3817\u001b[0m     \u001b[38;5;28mself\u001b[39m\u001b[38;5;241m.\u001b[39m_check_indexing_error(key)\n",
      "\u001b[1;31mKeyError\u001b[0m: 'Kategori_Pantai'"
     ]
    }
   ],
   "source": [
    "y = wisata['Kategori_Pantai']  # Contoh target (bisa disesuaikan dengan kategori lainnya)\n"
   ]
  },
  {
   "cell_type": "code",
   "execution_count": 16,
   "id": "3a7a4d4f-9af5-4080-b49f-a96855f73b5e",
   "metadata": {},
   "outputs": [
    {
     "name": "stdout",
     "output_type": "stream",
     "text": [
      "Index(['LinkGmaps', 'NameLocation', 'Rating', 'Foto', 'Provinsi', 'Alamat',\n",
      "       'Penjelasan', 'Kategori', 'Clean_Penjelasan'],\n",
      "      dtype='object')\n"
     ]
    }
   ],
   "source": [
    "print(wisata.columns)\n"
   ]
  },
  {
   "cell_type": "code",
   "execution_count": null,
   "id": "db1392db-a846-4047-9ac5-4b81a4736198",
   "metadata": {},
   "outputs": [],
   "source": []
  }
 ],
 "metadata": {
  "kernelspec": {
   "display_name": "Python 3 (ipykernel)",
   "language": "python",
   "name": "python3"
  },
  "language_info": {
   "codemirror_mode": {
    "name": "ipython",
    "version": 3
   },
   "file_extension": ".py",
   "mimetype": "text/x-python",
   "name": "python",
   "nbconvert_exporter": "python",
   "pygments_lexer": "ipython3",
   "version": "3.11.4"
  }
 },
 "nbformat": 4,
 "nbformat_minor": 5
}
