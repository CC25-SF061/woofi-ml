{
 "cells": [
  {
   "cell_type": "markdown",
   "id": "499f1ddf-e03a-44dc-8213-5d0e6db60360",
   "metadata": {},
   "source": [
    "# **1. Import Library**"
   ]
  },
  {
   "cell_type": "code",
   "execution_count": 1,
   "id": "dfbf062c-abb2-4047-a240-d31c112e728e",
   "metadata": {},
   "outputs": [],
   "source": [
    "\n",
    "\n",
    "import json\n",
    "import pandas as pd\n",
    "import joblib\n",
    "from datetime import datetime\n",
    "from sklearn.preprocessing import OneHotEncoder, MultiLabelBinarizer\n",
    "from sklearn.ensemble import RandomForestClassifier\n",
    "from sklearn.model_selection import train_test_split"
   ]
  },
  {
   "cell_type": "markdown",
   "id": "b709e873-da2f-4c7a-83a4-20363556f50e",
   "metadata": {},
   "source": [
    "# **2. Load Model**"
   ]
  },
  {
   "cell_type": "code",
   "execution_count": 2,
   "id": "37c2521c-d3f7-443d-9b8e-7960362294ef",
   "metadata": {},
   "outputs": [],
   "source": [
    "with open(\"Dataset/test.json\", \"r\", encoding=\"utf-8\") as f:\n",
    "    test_data = json.load(f)\n",
    "\n",
    "woofi_model = joblib.load(\"woofi_model.pkl\")\n",
    "wisata_df = woofi_model[2]  # DataFrame tempat wisata\n",
    "\n",
    "kategori_columns = [col for col in wisata_df.columns if col.startswith(\"Kategori_\")]\n",
    "kategori_series = wisata_df[kategori_columns].idxmax(axis=1).str.replace(\"Kategori_\", \"\", regex=False).str.strip()\n",
    "kategori_series.name = \"Kategori\"\n",
    "wifi_df = pd.concat([wisata_df[[\"NameLocation\"]], kategori_series], axis=1)\n"
   ]
  },
  {
   "cell_type": "markdown",
   "id": "302b0b8d-adea-4c2c-92bd-3abbfdcce7f5",
   "metadata": {},
   "source": [
    "# **3. Menghitung Umur**"
   ]
  },
  {
   "cell_type": "code",
   "execution_count": 3,
   "id": "2e692226-5a6b-4d41-a9ab-d4c7b7569fbb",
   "metadata": {},
   "outputs": [],
   "source": [
    "def calculate_age(birth_date_str):\n",
    "    birth_date = datetime.fromisoformat(birth_date_str.replace('Z', '+00:00'))\n",
    "    today = datetime.today()\n",
    "    return today.year - birth_date.year - ((today.month, today.day) < (birth_date.month, birth_date.day))"
   ]
  },
  {
   "cell_type": "markdown",
   "id": "82c775da-cf0d-4c87-a1db-f9c52b803c78",
   "metadata": {},
   "source": [
    "# **4. Data User**"
   ]
  },
  {
   "cell_type": "code",
   "execution_count": 4,
   "id": "e807218c-af71-4a02-8423-728e267ec1be",
   "metadata": {},
   "outputs": [],
   "source": [
    "def preprocess_user_data(test_data, wisata_df):\n",
    "    user_rows = []\n",
    "\n",
    "    for user in test_data:\n",
    "        if not user.get(\"gender\") or not user.get(\"birth_date\"):\n",
    "            continue\n",
    "\n",
    "        gender = 1 if user[\"gender\"].lower() == \"female\" else 0\n",
    "        try:\n",
    "            age = calculate_age(user[\"birth_date\"])\n",
    "        except:\n",
    "            continue\n",
    "\n",
    "        interests = user.get(\"interest\", [])\n",
    "        searches = user.get(\"searchs\", [])\n",
    "\n",
    "        if not isinstance(searches, list):\n",
    "            continue\n",
    "\n",
    "        for s in searches:\n",
    "            place_name = s.get(\"name\")\n",
    "            count = s.get(\"count\", 1)\n",
    "            if not place_name:\n",
    "                continue\n",
    "\n",
    "            match = wisata_df[wisata_df[\"NameLocation\"] == place_name]\n",
    "            if not match.empty:\n",
    "                kategori = match.iloc[0][\"Kategori\"]\n",
    "                label = match.iloc[0][\"NameLocation\"]\n",
    "\n",
    "                user_rows.append({\n",
    "                    \"gender\": gender,\n",
    "                    \"age\": age,\n",
    "                    \"interest\": interests,\n",
    "                    \"kategori\": kategori,\n",
    "                    \"count\": count,\n",
    "                    \"label\": label\n",
    "                })\n",
    "\n",
    "    return pd.DataFrame(user_rows)"
   ]
  },
  {
   "cell_type": "code",
   "execution_count": 5,
   "id": "e8d3fda2-4005-40ae-96c3-c181c7446373",
   "metadata": {},
   "outputs": [],
   "source": [
    "user_df = preprocess_user_data(test_data, wifi_df)"
   ]
  },
  {
   "cell_type": "markdown",
   "id": "7ed30527-73c4-412b-b227-4bb1731ffd01",
   "metadata": {},
   "source": [
    "# **5. Pelatihan**"
   ]
  },
  {
   "cell_type": "code",
   "execution_count": 6,
   "id": "0023c996-bd8e-4193-a784-409b085b2a06",
   "metadata": {},
   "outputs": [],
   "source": [
    "# One-hot untuk interest multi-label\n",
    "mlb = MultiLabelBinarizer()\n",
    "interest_encoded = pd.DataFrame(mlb.fit_transform(user_df[\"interest\"]), columns=[f\"interest_{c}\" for c in mlb.classes_])\n",
    "\n",
    "# One-hot untuk kategori\n",
    "ohe = OneHotEncoder(sparse_output=False, handle_unknown=\"ignore\")\n",
    "kategori_encoded = ohe.fit_transform(user_df[[\"kategori\"]])\n",
    "kategori_encoded = pd.DataFrame(kategori_encoded, columns=ohe.get_feature_names_out([\"kategori\"]))\n",
    "\n",
    "# Gabungkan semua fitur\n",
    "X = pd.concat([\n",
    "    interest_encoded.reset_index(drop=True),\n",
    "    kategori_encoded.reset_index(drop=True),\n",
    "    user_df[[\"gender\", \"age\", \"count\"]].reset_index(drop=True)\n",
    "], axis=1)\n",
    "\n",
    "y = user_df[\"label\"]\n"
   ]
  },
  {
   "cell_type": "code",
   "execution_count": 7,
   "id": "dae20de1-bfa5-4788-97d4-0c6289849a43",
   "metadata": {},
   "outputs": [
    {
     "name": "stdout",
     "output_type": "stream",
     "text": [
      "Validation Accuracy: 0.95\n"
     ]
    }
   ],
   "source": [
    "X_train, X_val, y_train, y_val = train_test_split(X, y, test_size=0.4, random_state=42, stratify=y)\n",
    "\n",
    "model = RandomForestClassifier(n_estimators=50, random_state=42)\n",
    "model.fit(X_train, y_train)\n",
    "\n",
    "print(f\"Validation Accuracy: {model.score(X_val, y_val):.2f}\")"
   ]
  },
  {
   "cell_type": "markdown",
   "id": "edb5e7e8-72b7-434a-bf42-382b2a206ded",
   "metadata": {},
   "source": [
    "# **5. Export**"
   ]
  },
  {
   "cell_type": "code",
   "execution_count": 8,
   "id": "bb3a505b-9019-4f86-a788-80868425de4c",
   "metadata": {},
   "outputs": [
    {
     "name": "stdout",
     "output_type": "stream",
     "text": [
      "✅ Model dan encoder berhasil disimpan.\n"
     ]
    }
   ],
   "source": [
    "joblib.dump(model, \"rekomendasi_wisata_model.pkl\")\n",
    "joblib.dump(ohe, \"rekomendasi_encoder_kategori.pkl\")\n",
    "joblib.dump(mlb, \"rekomendasi_encoder_interest.pkl\")\n",
    "print(\"✅ Model dan encoder berhasil disimpan.\")"
   ]
  },
  {
   "cell_type": "markdown",
   "id": "38e97193-fc88-47ab-83a8-466ae5284b4c",
   "metadata": {},
   "source": [
    "# **6. Testing**"
   ]
  },
  {
   "cell_type": "code",
   "execution_count": 9,
   "id": "2cac4e14-dd12-42ab-9cf5-0e868f9c1c40",
   "metadata": {},
   "outputs": [],
   "source": [
    "# Tambah kategori utama ke wisata_df\n",
    "kategori_series = wisata_df[kategori_columns].idxmax(axis=1).str.replace(\"Kategori_\", \"\", regex=False).str.strip()\n",
    "wisata_df[\"Kategori\"] = kategori_series\n",
    "\n",
    "# --- Fungsi untuk user baru ---\n",
    "def recommend_for_new_user(gender, age, interest_list, top_n=5):\n",
    "    # Load model dan encoder\n",
    "    model = joblib.load(\"rekomendasi_wisata_model.pkl\")\n",
    "    ohe = joblib.load(\"rekomendasi_encoder_kategori.pkl\")\n",
    "    mlb = joblib.load(\"rekomendasi_encoder_interest.pkl\")\n",
    "\n",
    "    # Encode interest\n",
    "    interest_data = mlb.transform([interest_list])\n",
    "    interest_df = pd.DataFrame(interest_data, columns=[f\"interest_{c}\" for c in mlb.classes_])\n",
    "\n",
    "    # Dummy kategori (wajib untuk bentuk input, tidak dipakai di prediksi)\n",
    "    dummy_kategori = pd.DataFrame(ohe.transform([[\"Taman\"]]), columns=ohe.get_feature_names_out([\"kategori\"]))\n",
    "\n",
    "    # Gabungkan fitur\n",
    "    input_df = pd.concat([\n",
    "        interest_df,\n",
    "        dummy_kategori,\n",
    "        pd.DataFrame([[gender, age, 1]], columns=[\"gender\", \"age\", \"count\"])\n",
    "    ], axis=1)\n",
    "\n",
    "    # Tambah kolom yang mungkin tidak ada\n",
    "    missing_cols = set(model.feature_names_in_) - set(input_df.columns)\n",
    "    for col in missing_cols:\n",
    "        input_df[col] = 0\n",
    "    input_df = input_df[model.feature_names_in_]\n",
    "\n",
    "    # Prediksi probabilitas\n",
    "    proba = model.predict_proba(input_df)[0]\n",
    "    top_indices = proba.argsort()[::-1][:top_n]\n",
    "    labels = model.classes_[top_indices]\n",
    "\n",
    "    # Ambil detail dari wisata_df berdasarkan nama lokasi\n",
    "    rekomendasi = wisata_df[wisata_df[\"NameLocation\"].isin(labels)]\n",
    "\n",
    "    # Urutkan berdasarkan urutan label prediksi\n",
    "    rekomendasi[\"skor\"] = rekomendasi[\"NameLocation\"].apply(lambda x: proba[labels.tolist().index(x)] if x in labels else 0)\n",
    "    rekomendasi = rekomendasi.sort_values(by=\"skor\", ascending=False)\n",
    "\n",
    "    return rekomendasi[[\"NameLocation\", \"Kategori\", \"skor\"]].head(top_n).values.tolist()\n",
    "\n",
    "\n",
    "# --- Fungsi untuk user lama ---\n",
    "def recommend_for_existing_user(user_data, wisata_df, top_n=5):\n",
    "    user_interest = user_data.get(\"interest\", [])\n",
    "    searchs = user_data.get(\"searchs\", [])\n",
    "    searched_places = [s[\"name\"] for s in searchs if isinstance(s, dict) and \"name\" in s]\n",
    "\n",
    "    # Rekomendasi berdasarkan interest = kategori dan tempat belum pernah dicari\n",
    "    rekomendasi = wisata_df[\n",
    "        wisata_df[\"Kategori\"].isin(user_interest) &\n",
    "        ~wisata_df[\"NameLocation\"].isin(searched_places)\n",
    "    ]\n",
    "\n",
    "    return rekomendasi[[\"NameLocation\", \"Kategori\"]].drop_duplicates().head(top_n).values.tolist()\n"
   ]
  },
  {
   "cell_type": "code",
   "execution_count": 10,
   "id": "866dc5d5-2e92-4840-b1a2-50c1a1c58a9b",
   "metadata": {},
   "outputs": [
    {
     "name": "stdout",
     "output_type": "stream",
     "text": [
      "\n",
      "📌 Rekomendasi untuk user baru:\n",
      "Tugu Kupiah Teuku Umar - Kategori: Budaya & Sejarah, Skor: 0.02\n",
      "Taman Putroe Phang - Kategori: Taman & Alam, Skor: 0.02\n",
      "Pucok Krueng - Kategori: Gunung, Skor: 0.00\n",
      "Tapak Tuan Tapa - Kategori: Budaya & Sejarah, Skor: 0.00\n",
      "Taman Sulthanah Safiatuddin Banda Aceh - Kategori: Taman & Alam, Skor: 0.00\n",
      "\n",
      "📌 Rekomendasi untuk user lama:\n",
      "Kolam Renang Mata Ie - Kategori: Kuliner\n",
      "Natio - Kategori: Kuliner\n"
     ]
    },
    {
     "name": "stderr",
     "output_type": "stream",
     "text": [
      "C:\\Users\\03ann\\AppData\\Local\\Programs\\Python\\Python311\\Lib\\site-packages\\sklearn\\preprocessing\\_label.py:909: UserWarning: unknown class(es) ['Alam', 'Pantai'] will be ignored\n",
      "  warnings.warn(\n",
      "C:\\Users\\03ann\\AppData\\Local\\Programs\\Python\\Python311\\Lib\\site-packages\\sklearn\\utils\\validation.py:2739: UserWarning: X does not have valid feature names, but OneHotEncoder was fitted with feature names\n",
      "  warnings.warn(\n",
      "C:\\Users\\03ann\\AppData\\Local\\Temp\\ipykernel_14820\\946278426.py:41: SettingWithCopyWarning: \n",
      "A value is trying to be set on a copy of a slice from a DataFrame.\n",
      "Try using .loc[row_indexer,col_indexer] = value instead\n",
      "\n",
      "See the caveats in the documentation: https://pandas.pydata.org/pandas-docs/stable/user_guide/indexing.html#returning-a-view-versus-a-copy\n",
      "  rekomendasi[\"skor\"] = rekomendasi[\"NameLocation\"].apply(lambda x: proba[labels.tolist().index(x)] if x in labels else 0)\n"
     ]
    }
   ],
   "source": [
    "# Contoh user baru\n",
    "print(\"\\n📌 Rekomendasi untuk user baru:\")\n",
    "hasil_baru = recommend_for_new_user(gender=1, age=25, interest_list=[\"Pantai\", \"Alam\"])\n",
    "\n",
    "# Karena hasilnya adalah list of tuples yang berisi (Nama Lokasi, Kategori, Skor)\n",
    "for hasil in hasil_baru:\n",
    "    nama, kategori, skor = hasil\n",
    "    print(f\"{nama} - Kategori: {kategori}, Skor: {skor:.2f}\")\n",
    "\n",
    "\n",
    "# Contoh user lama\n",
    "print(\"\\n📌 Rekomendasi untuk user lama:\")\n",
    "user_lama = {\n",
    "    \"interest\": [\"Sejarah\", \"Kuliner\"],\n",
    "    \"searchs\": [{\"name\": \"Candi Borobudur\"}, {\"name\": \"Kota Lama Semarang\"}]\n",
    "}\n",
    "hasil_lama = recommend_for_existing_user(user_lama, wisata_df)\n",
    "for nama, kategori in hasil_lama:\n",
    "    print(f\"{nama} - Kategori: {kategori}\")\n"
   ]
  },
  {
   "cell_type": "code",
   "execution_count": null,
   "id": "dbf69b96-31fe-4f66-b217-39b418ebc83f",
   "metadata": {},
   "outputs": [],
   "source": []
  }
 ],
 "metadata": {
  "kernelspec": {
   "display_name": "Python 3 (ipykernel)",
   "language": "python",
   "name": "python3"
  },
  "language_info": {
   "codemirror_mode": {
    "name": "ipython",
    "version": 3
   },
   "file_extension": ".py",
   "mimetype": "text/x-python",
   "name": "python",
   "nbconvert_exporter": "python",
   "pygments_lexer": "ipython3",
   "version": "3.11.4"
  }
 },
 "nbformat": 4,
 "nbformat_minor": 5
}
